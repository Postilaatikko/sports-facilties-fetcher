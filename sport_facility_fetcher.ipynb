{
 "cells": [
  {
   "cell_type": "markdown",
   "metadata": {},
   "source": [
    "## Lipas data fetching\n",
    "\n",
    "In this script Lipas data is fetched from geoserver. Then the data is saved to a file. After this, the saved data is used to fetch Mapple Insights reachabilities from the POIs."
   ]
  },
  {
   "cell_type": "code",
   "execution_count": 1,
   "metadata": {},
   "outputs": [],
   "source": [
    "# import necessary modules\n",
    "import geojson\n",
    "import geopandas as gpd\n",
    "import json\n",
    "import mapclassify\n",
    "import os\n",
    "import pandas as pd\n",
    "import shapely\n",
    "import shapely.wkt\n",
    "%run scripts # getGrid, getLipasData, getReachabilityDF"
   ]
  },
  {
   "cell_type": "markdown",
   "metadata": {},
   "source": [
    "Choose your municipality. Use the Finnish name of the municipality."
   ]
  },
  {
   "cell_type": "code",
   "execution_count": 8,
   "metadata": {},
   "outputs": [
    {
     "name": "stdin",
     "output_type": "stream",
     "text": [
      " Jyväskylä\n"
     ]
    }
   ],
   "source": [
    "municipality = input()"
   ]
  },
  {
   "cell_type": "code",
   "execution_count": 9,
   "metadata": {},
   "outputs": [],
   "source": [
    "# 1180 = frisbeegolf_rata\n",
    "# 1340 = pallokenttä\n",
    "# 2120 = kuntosali\n",
    "# These will get data from lipas using typecode and typename\n",
    "disc_golf_courses = getLipasData(typecode = '1180', \n",
    "                               typename = 'frisbeegolf_rata', \n",
    "                               municipality = municipality,\n",
    "                               buffer=1000)\n",
    "\n",
    "fitness_centers = getLipasData(typecode = '2120', \n",
    "                               typename = 'kuntosali', \n",
    "                               municipality = municipality,\n",
    "                               buffer=1000)\n",
    "\n",
    "ball_parks = getLipasData(typecode = '1340', \n",
    "                          typename = 'pallokentta', \n",
    "                          municipality = municipality,\n",
    "                          buffer=1000)"
   ]
  },
  {
   "cell_type": "code",
   "execution_count": 12,
   "metadata": {},
   "outputs": [
    {
     "data": {
      "text/plain": [
       "13"
      ]
     },
     "execution_count": 12,
     "metadata": {},
     "output_type": "execute_result"
    }
   ],
   "source": [
    "len(disc_golf_courses.index)"
   ]
  },
  {
   "cell_type": "markdown",
   "metadata": {},
   "source": [
    "Subset the data to smaller size. Note that you do not have to execute this block for the program to work.\n",
    "\n",
    "For example one disc golf course in Helsinki is in Santahamina garrison and is not available for the general public.\n",
    "\n",
    "The column 'vapaa_kaytto' refers to whether the facility is publicly available. This however cannot be used for all sports facilties as there are multiple facilities with 'vapaa_kaytto' as None, but this does not mean that the facility is actually not accessible, it just lacks the information."
   ]
  },
  {
   "cell_type": "code",
   "execution_count": 55,
   "metadata": {},
   "outputs": [],
   "source": [
    "disc_golf_courses = disc_golf_courses.loc[disc_golf_courses['vapaa_kaytto'] == True]"
   ]
  },
  {
   "cell_type": "markdown",
   "metadata": {},
   "source": [
    "Save Lipas data to geojson files. This needs to be done in order to\n",
    "fetch Mapple Insights data for the layers. Example below."
   ]
  },
  {
   "cell_type": "code",
   "execution_count": 69,
   "metadata": {},
   "outputs": [],
   "source": [
    "disc_golf_courses.to_file(\"./input_folder/jkl_mrm_golf.geojson\", driver=\"GeoJSON\")\n",
    "fitness_centers.to_file(\"./input_folder/jkl_mrm_fitness_centers.geojson\", driver=\"GeoJSON\")\n",
    "ball_parks.to_file(\"./input_folder/jkl_mrm_ball_parks.geojson\", driver=\"GeoJSON\")"
   ]
  },
  {
   "cell_type": "markdown",
   "metadata": {},
   "source": [
    "If you have not already, do the following commands on your terminal. Remember that the folder should be mapple-api-script, or the folder where main.py is located at, when executing the last 3 commands. Note that if you have not created the output folder, the command creates a new folder with the same name.\n",
    "\n",
    "conda activate mapple-insights-api\n",
    "\n",
    "export MAPPLE_API_KEY=YOUR_MAPPLE_API_KEY\n",
    "\n",
    "python main.py -u https://staging.api.mapple.io -e ./input_folder/jkl_mrm_disc_golf.geojson -m 30 -d ./jkl_mrm_disc_golf_output_folder -i True\n",
    "\n",
    "python main.py -u https://staging.api.mapple.io -e ./input_folder/jkl_mrm_fitness_centers.geojson -m 30 -d ./jkl_mrm_fitness_centers_output_folder -i True\n",
    "\n",
    "python main.py -u https://staging.api.mapple.io -e ./input_folder/jkl_mrm_ball_parks.geojson -m 30 -d ./jkl_mrm_ball_parks_output_folder -i True\n",
    "\n",
    "I have set -i to True so I can construct the result layers more easily.\n",
    "\n",
    "If you are unsure what do the -(letter) refer to, run \"python main.py -h\" on your terminal. This will give you the documentation."
   ]
  },
  {
   "cell_type": "markdown",
   "metadata": {},
   "source": [
    "Create 2 arrays that contain the names of the sports and traveling modes. And set the prefix accordingly. Prefix should be the same as in your output folder."
   ]
  },
  {
   "cell_type": "code",
   "execution_count": 70,
   "metadata": {},
   "outputs": [
    {
     "name": "stdin",
     "output_type": "stream",
     "text": [
      " jkl_mrm\n"
     ]
    }
   ],
   "source": [
    "sports = ['disc_golf', 'fitness_centers', 'ball_parks']\n",
    "modes = ['walking', 'cycling', 'transit', 'driving']\n",
    "prefix = input()"
   ]
  },
  {
   "cell_type": "markdown",
   "metadata": {},
   "source": [
    "Assing population grid to a variable called grid. Remember to set the correct path to the grid file in scripts.py."
   ]
  },
  {
   "cell_type": "code",
   "execution_count": 75,
   "metadata": {},
   "outputs": [],
   "source": [
    "grid = getGrid()"
   ]
  },
  {
   "cell_type": "code",
   "execution_count": 4,
   "metadata": {},
   "outputs": [
    {
     "data": {
      "text/plain": [
       "151215"
      ]
     },
     "execution_count": 4,
     "metadata": {},
     "output_type": "execute_result"
    }
   ],
   "source": [
    "# Get the sum of population in the population grid\n",
    "grid['he_vakiy'].sum()"
   ]
  },
  {
   "cell_type": "markdown",
   "metadata": {},
   "source": [
    "This loop will create outputs as shapefiles in ./shapefiles-folder. The files are in folders named as prefix_sport_travelmode_grid."
   ]
  },
  {
   "cell_type": "code",
   "execution_count": 76,
   "metadata": {},
   "outputs": [
    {
     "name": "stdout",
     "output_type": "stream",
     "text": [
      "Processing jkl_mrm_ball_parks_output_folderolder\r"
     ]
    }
   ],
   "source": [
    "for sport in sports:\n",
    "    for mode in modes:\n",
    "        print(r'Processing {}_{}_output_folder'.format(prefix,sport), end='\\r')\n",
    "        output = getReachabilityDF(r'{}_{}_output_folder'.format(prefix,sport), \n",
    "                                   r'{}'.format(mode))\n",
    "        grid = grid.to_crs(output.crs)\n",
    "        \n",
    "        join = gpd.sjoin(output, grid, how=\"inner\", op=\"intersects\")\n",
    "        join.to_file(r'./shapefiles/{}_{}_{}_grid'.format(prefix,sport,mode))"
   ]
  },
  {
   "cell_type": "markdown",
   "metadata": {},
   "source": [
    "Now you should have reachability layers, as shapefiles, for the sport types you have chosen."
   ]
  }
 ],
 "metadata": {
  "kernelspec": {
   "display_name": "Python 3",
   "language": "python",
   "name": "python3"
  },
  "language_info": {
   "codemirror_mode": {
    "name": "ipython",
    "version": 3
   },
   "file_extension": ".py",
   "mimetype": "text/x-python",
   "name": "python",
   "nbconvert_exporter": "python",
   "pygments_lexer": "ipython3",
   "version": "3.8.0"
  }
 },
 "nbformat": 4,
 "nbformat_minor": 4
}
