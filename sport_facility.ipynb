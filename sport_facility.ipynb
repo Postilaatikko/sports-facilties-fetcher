{
 "cells": [
  {
   "cell_type": "markdown",
   "metadata": {},
   "source": [
    "## Lipas data fetching\n",
    "\n",
    "In this script Lipas data is fetched from geoserver. Then the data is saved to a file. After this, the saved data is used to fetch Mapple Insights reachabilities from the POIs."
   ]
  },
  {
   "cell_type": "code",
   "execution_count": 53,
   "metadata": {},
   "outputs": [],
   "source": [
    "# import necessary modules\n",
    "import pandas as pd\n",
    "import geopandas as gpd\n",
    "import geojson\n",
    "import shapely\n",
    "import shapely.wkt\n",
    "import json\n",
    "import os\n",
    "%run scripts # getGrid, getLipasData, getReachabilityDF, visualize\n",
    "import mapclassify"
   ]
  },
  {
   "cell_type": "markdown",
   "metadata": {},
   "source": [
    "Choose your municipality"
   ]
  },
  {
   "cell_type": "code",
   "execution_count": 54,
   "metadata": {},
   "outputs": [
    {
     "name": "stdin",
     "output_type": "stream",
     "text": [
      " Jyväskylä\n"
     ]
    }
   ],
   "source": [
    "municipality = input()"
   ]
  },
  {
   "cell_type": "code",
   "execution_count": 55,
   "metadata": {},
   "outputs": [],
   "source": [
    "# 1180 = frisbeegolf_rata\n",
    "# 1340 = pallokenttä\n",
    "# 2120 = kuntosali\n",
    "# These will get data from lipas using typecode and typename\n",
    "disc_golf_parks = getLipasData(typecode = '1180', \n",
    "                               typename = 'frisbeegolf_rata', \n",
    "                               municipality=municipality)\n",
    "fitness_centers = getLipasData(typecode = '2120', \n",
    "                               typename = 'kuntosali', \n",
    "                               municipality=municipality)\n",
    "ball_parks = getLipasData(typecode = '1340', \n",
    "                          typename = 'pallokentta', \n",
    "                          municipality=municipality)"
   ]
  },
  {
   "cell_type": "markdown",
   "metadata": {},
   "source": [
    "Subset the ballparks to smaller size. Note that you do not have to execute this block for the program to work."
   ]
  },
  {
   "cell_type": "code",
   "execution_count": 32,
   "metadata": {},
   "outputs": [],
   "source": [
    "#ball_parks['kentan_pituus_m'] = pd.to_numeric(ball_parks['kentan_pituus_m'], downcast='integer')\n",
    "#ball_parks = ball_parks.loc[ball_parks['kentan_pituus_m'] <= 50]"
   ]
  },
  {
   "cell_type": "markdown",
   "metadata": {},
   "source": [
    "Save Lipas data to geojson files. This needs to be done in order to\n",
    "fetch Mapple Insights data for the layers."
   ]
  },
  {
   "cell_type": "code",
   "execution_count": 56,
   "metadata": {},
   "outputs": [],
   "source": [
    "ball_parks.to_file(\"./input_folder/jkl_ball_parks.geojson\", driver=\"GeoJSON\")\n",
    "disc_golf_parks.to_file(\"./input_folder/jkl_disc_golf.geojson\", driver=\"GeoJSON\")\n",
    "fitness_centers.to_file(\"./input_folder/jkl_fitness_centers.geojson\", driver=\"GeoJSON\")"
   ]
  },
  {
   "cell_type": "markdown",
   "metadata": {},
   "source": [
    "If you have not already, do the following commands on your terminal. Remember that the folder should be mapple-api-script, or the folder where main.py is located at, when executing the last 3 commands.\n",
    "\n",
    "conda activate mapple-insights-api\n",
    "\n",
    "export MAPPLE_API_KEY=YOUR_MAPPLE_API_KEY\n",
    "\n",
    "python main.py -u https://staging.api.mapple.io -e ./input_folder/jkl_ball_parks.geojson -m 30 -d ./jkl_ball_parks_output_folder -i True\n",
    "\n",
    "python main.py -u https://staging.api.mapple.io -e ./input_folder/jkl_disc_golf.geojson -m 30 -d ./jkl_disc_golf_output_folder -i True\n",
    "\n",
    "python main.py -u https://staging.api.mapple.io -e ./input_folder/jkl_fitness_centers.geojson -m 30 -d ./jkl_fitness_centers_output_folder -i True\n",
    "\n",
    "I have set -i to True so I can construct the result layers more easily."
   ]
  },
  {
   "cell_type": "markdown",
   "metadata": {},
   "source": [
    "Create 2 arrays that contain the names of the sports and traveling modes. And set the prefix accordingly."
   ]
  },
  {
   "cell_type": "code",
   "execution_count": 65,
   "metadata": {},
   "outputs": [
    {
     "name": "stdin",
     "output_type": "stream",
     "text": [
      " jkl\n"
     ]
    }
   ],
   "source": [
    "sports = ['disc_golf', 'fitness_centers', 'ball_parks']\n",
    "modes = ['walking', 'cycling', 'transit', 'driving']\n",
    "prefix = input()"
   ]
  },
  {
   "cell_type": "markdown",
   "metadata": {},
   "source": [
    "This nested loop will create outputs as shapefiles in ./shapefiles-folder. The files are in folders named as sport_travelmode."
   ]
  },
  {
   "cell_type": "code",
   "execution_count": 73,
   "metadata": {},
   "outputs": [
    {
     "name": "stdout",
     "output_type": "stream",
     "text": [
      "Processing jkl_ball_parks_output_folder, Progress: (12/7)8/7)\r"
     ]
    }
   ],
   "source": [
    "%run scripts # getGrid, getLipasData, getReachabilityDF, visualize\n",
    "# Get the grid for joinging it with reachability-layer\n",
    "grid = getGrid()\n",
    "for sport in sports:\n",
    "    for mode in modes:\n",
    "        print(r'Processing {}_{}_output_folder'.format(prefix,sport), end='\\r')\n",
    "        output = getReachabilityDF(r'{}_{}_output_folder'.format(prefix,sport), r'{}'.format(mode),\"\")\n",
    "        \n",
    "        grid = grid.to_crs(outputs.crs)\n",
    "        \n",
    "        join = gpd.sjoin(output, grid, how=\"inner\", op=\"intersects\")\n",
    "        join.to_file(r'./shapefiles/{}_{}_{}_grid'.format(prefix,sport,mode))"
   ]
  },
  {
   "cell_type": "markdown",
   "metadata": {},
   "source": [
    "Now you should have reachability layers, as shapefiles, for the sport types you have chosen."
   ]
  },
  {
   "cell_type": "code",
   "execution_count": null,
   "metadata": {},
   "outputs": [],
   "source": []
  }
 ],
 "metadata": {
  "kernelspec": {
   "display_name": "Python 3",
   "language": "python",
   "name": "python3"
  },
  "language_info": {
   "codemirror_mode": {
    "name": "ipython",
    "version": 3
   },
   "file_extension": ".py",
   "mimetype": "text/x-python",
   "name": "python",
   "nbconvert_exporter": "python",
   "pygments_lexer": "ipython3",
   "version": "3.8.0"
  }
 },
 "nbformat": 4,
 "nbformat_minor": 4
}
